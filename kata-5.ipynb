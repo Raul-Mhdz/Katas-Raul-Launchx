{
 "cells": [
  {
   "cell_type": "markdown",
   "metadata": {},
   "source": [
    "#### Ejercicio distancia entre planetas"
   ]
  },
  {
   "cell_type": "code",
   "execution_count": 1,
   "metadata": {},
   "outputs": [
    {
     "name": "stdout",
     "output_type": "stream",
     "text": [
      "La distancia entre la Tierra y Jupiter en KM es: 628949330\n",
      "La distancia entre la Tierra y Jupiter en MI es: 390577534\n"
     ]
    }
   ],
   "source": [
    "distancia_tierra = 149597870\n",
    "distancia_jupiter = 778547200\n",
    "\n",
    "distancia = abs(distancia_tierra - distancia_jupiter)\n",
    "millas = round(distancia * 0.621)\n",
    "\n",
    "print(\"La distancia entre la Tierra y Jupiter en KM es: {}\".format(distancia))\n",
    "print(\"La distancia entre la Tierra y Jupiter en MI es: {}\".format(millas))"
   ]
  },
  {
   "cell_type": "markdown",
   "metadata": {},
   "source": [
    "#### Ejercicio distancia de planeta ingresado por el usuario"
   ]
  },
  {
   "cell_type": "code",
   "execution_count": 2,
   "metadata": {},
   "outputs": [
    {
     "name": "stdout",
     "output_type": "stream",
     "text": [
      "La distancia entre el primer planeta y el segundo planeta en KM es: 211010\n",
      "La distancia entre el primer planeta y el segundo planeta en MI es: 131037\n"
     ]
    }
   ],
   "source": [
    "primer_planeta = int(input(\"Ingresa la distancia del sol del primer planeta: \"))\n",
    "segundo_planeta = int(input(\"Ingresa la distancia del sol del segundo planeta: \"))\n",
    "\n",
    "distanciaPlanetas = abs(primer_planeta - segundo_planeta)\n",
    "millas = round(distanciaPlanetas * 0.621)\n",
    "\n",
    "print(\"La distancia entre el primer planeta y el segundo planeta en KM es: {}\".format(distanciaPlanetas))\n",
    "print(\"La distancia entre el primer planeta y el segundo planeta en MI es: {}\".format(millas))"
   ]
  }
 ],
 "metadata": {
  "interpreter": {
   "hash": "8f4f64d3eab31cf78a6655c451e7d8becf6a3a6c8ef50fccdc4ff5480d609652"
  },
  "kernelspec": {
   "display_name": "Python 3.10.2 64-bit",
   "language": "python",
   "name": "python3"
  },
  "language_info": {
   "codemirror_mode": {
    "name": "ipython",
    "version": 3
   },
   "file_extension": ".py",
   "mimetype": "text/x-python",
   "name": "python",
   "nbconvert_exporter": "python",
   "pygments_lexer": "ipython3",
   "version": "3.10.2"
  },
  "orig_nbformat": 4
 },
 "nbformat": 4,
 "nbformat_minor": 2
}
