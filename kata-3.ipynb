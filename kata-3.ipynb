{
 "cells": [
  {
   "cell_type": "markdown",
   "metadata": {},
   "source": [
    "#### Ejercicio asteroide"
   ]
  },
  {
   "cell_type": "code",
   "execution_count": 1,
   "metadata": {},
   "outputs": [
    {
     "name": "stdout",
     "output_type": "stream",
     "text": [
      "Nada que ver!...\n"
     ]
    }
   ],
   "source": [
    "velocidad_asteroide = 20\n",
    "\n",
    "if velocidad_asteroide >= 25:\n",
    "    print(\"Alerta un Asteroide se dirige a la tierra!...\")\n",
    "else:\n",
    "    print(\"Nada que ver!...\")"
   ]
  },
  {
   "cell_type": "markdown",
   "metadata": {},
   "source": [
    "### Ejercicio luz del asteroide"
   ]
  },
  {
   "cell_type": "code",
   "execution_count": 2,
   "metadata": {},
   "outputs": [
    {
     "name": "stdout",
     "output_type": "stream",
     "text": [
      "Mira el espectaculo en el cielo!...\n"
     ]
    }
   ],
   "source": [
    "velocidadAsteroide = 25\n",
    "\n",
    "if velocidadAsteroide < 20:\n",
    "    print(\"Nada que ver!...\")\n",
    "elif velocidadAsteroide == 20:\n",
    "    print(\"Mira el espectaculo en el cielo!...\")\n",
    "else:\n",
    "    print(\"Mira el espectaculo en el cielo!...\")"
   ]
  },
  {
   "cell_type": "markdown",
   "metadata": {},
   "source": [
    "#### Ejercicio tamaño asteroide"
   ]
  },
  {
   "cell_type": "code",
   "execution_count": 3,
   "metadata": {},
   "outputs": [
    {
     "name": "stdout",
     "output_type": "stream",
     "text": [
      "Es el fin del Mundo!...\n"
     ]
    }
   ],
   "source": [
    "velocidadAs = 25\n",
    "dimension_asteroide = 25\n",
    "\n",
    "if velocidadAs >= 25 and dimension_asteroide >= 25:\n",
    "    print(\"Es el fin del Mundo!...\")\n",
    "elif velocidadAs >= 20:\n",
    "    print('Mira el espectaculo en el cielo!...')\n",
    "elif dimension_asteroide < 25:\n",
    "    print('Nada que ver!...')\n",
    "else:\n",
    "    print('Nada que ver!...')"
   ]
  }
 ],
 "metadata": {
  "interpreter": {
   "hash": "8f4f64d3eab31cf78a6655c451e7d8becf6a3a6c8ef50fccdc4ff5480d609652"
  },
  "kernelspec": {
   "display_name": "Python 3.10.2 64-bit",
   "language": "python",
   "name": "python3"
  },
  "language_info": {
   "codemirror_mode": {
    "name": "ipython",
    "version": 3
   },
   "file_extension": ".py",
   "mimetype": "text/x-python",
   "name": "python",
   "nbconvert_exporter": "python",
   "pygments_lexer": "ipython3",
   "version": "3.10.2"
  },
  "orig_nbformat": 4
 },
 "nbformat": 4,
 "nbformat_minor": 2
}
