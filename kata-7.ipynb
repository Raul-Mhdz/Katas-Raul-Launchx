{
 "cells": [
  {
   "cell_type": "markdown",
   "metadata": {},
   "source": [
    "#### Ejercicio creacion de un bucle while"
   ]
  },
  {
   "cell_type": "code",
   "execution_count": 1,
   "metadata": {},
   "outputs": [],
   "source": [
    "planetas = []\n",
    "planetas_usuario = \"\"\n",
    "\n",
    "while planetas_usuario.lower() != \"done\":\n",
    "\n",
    "    if planetas_usuario:\n",
    "        planetas.append(planetas_usuario)\n",
    "    \n",
    "    planetas_usuario = input(\"Ingrese un planeta (cuando termine escriba la palabra done): \")\n"
   ]
  },
  {
   "cell_type": "markdown",
   "metadata": {},
   "source": [
    "#### Ejercicio creando un ciclo for"
   ]
  },
  {
   "cell_type": "code",
   "execution_count": 2,
   "metadata": {},
   "outputs": [
    {
     "name": "stdout",
     "output_type": "stream",
     "text": [
      "Los planetas ingresados por el usuario son: \n",
      "1- Tierra\n"
     ]
    }
   ],
   "source": [
    "numero = 0\n",
    "print(\"Los planetas ingresados por el usuario son: \")\n",
    "for planetasLi in planetas:\n",
    "    numero += 1\n",
    "    print(\"{}- {}\".format(numero, planetasLi))"
   ]
  }
 ],
 "metadata": {
  "interpreter": {
   "hash": "8f4f64d3eab31cf78a6655c451e7d8becf6a3a6c8ef50fccdc4ff5480d609652"
  },
  "kernelspec": {
   "display_name": "Python 3.10.2 64-bit",
   "language": "python",
   "name": "python3"
  },
  "language_info": {
   "codemirror_mode": {
    "name": "ipython",
    "version": 3
   },
   "file_extension": ".py",
   "mimetype": "text/x-python",
   "name": "python",
   "nbconvert_exporter": "python",
   "pygments_lexer": "ipython3",
   "version": "3.10.2"
  },
  "orig_nbformat": 4
 },
 "nbformat": 4,
 "nbformat_minor": 2
}
