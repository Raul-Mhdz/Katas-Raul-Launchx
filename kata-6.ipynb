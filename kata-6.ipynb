{
 "cells": [
  {
   "cell_type": "markdown",
   "metadata": {},
   "source": [
    "#### Ejercicio crear listas"
   ]
  },
  {
   "cell_type": "code",
   "execution_count": 1,
   "metadata": {},
   "outputs": [
    {
     "name": "stdout",
     "output_type": "stream",
     "text": [
      "Hay 8 planetas en la lista\n",
      "El ultimo planeta de la lista es: Pluton\n"
     ]
    }
   ],
   "source": [
    "planetas = [\"Mercurio\", \"Venus\", \"Tierra\", \"Marte\", \"Jupiter\", \"Saturno\", \"Urano\", \"Neptuno\"]\n",
    "\n",
    "print(\"Hay {} planetas en la lista\".format(len(planetas)))\n",
    "\n",
    "planetas.append(\"Pluton\")\n",
    "\n",
    "print(\"El ultimo planeta de la lista es: {}\".format(planetas[-1]))"
   ]
  },
  {
   "cell_type": "markdown",
   "metadata": {},
   "source": [
    "#### Ejercicio mostrar planetas mas cercanos y lejanos al sol por listas"
   ]
  },
  {
   "cell_type": "code",
   "execution_count": 2,
   "metadata": {},
   "outputs": [
    {
     "name": "stdout",
     "output_type": "stream",
     "text": [
      "Los planetas mas cercanos al sol antes que Tierra son: ['Mercurio', 'Venus']\n",
      "Los planetas mas lejanos al sol despues de Tierra son: ['Marte', 'Jupiter', 'Saturno', 'Urano', 'Neptuno']\n"
     ]
    }
   ],
   "source": [
    "planetas = [\"Mercurio\", \"Venus\", \"Tierra\", \"Marte\", \"Jupiter\", \"Saturno\", \"Urano\", \"Neptuno\"]\n",
    "\n",
    "planetaUsuario = input(\"Ingresa el nombre del planeta (empezando por mayuscula): \")\n",
    "\n",
    "busqueda_planeta = planetas.index(planetaUsuario)\n",
    "planetas_cerca = planetas[0:busqueda_planeta]\n",
    "planetas_leganos = planetas[busqueda_planeta + 1:]\n",
    "\n",
    "print(\"Los planetas mas cercanos al sol antes que {} son: {}\".format(planetaUsuario, planetas_cerca))\n",
    "print(\"Los planetas mas lejanos al sol despues de {} son: {}\".format(planetaUsuario, planetas_leganos))"
   ]
  }
 ],
 "metadata": {
  "interpreter": {
   "hash": "8f4f64d3eab31cf78a6655c451e7d8becf6a3a6c8ef50fccdc4ff5480d609652"
  },
  "kernelspec": {
   "display_name": "Python 3.10.2 64-bit",
   "language": "python",
   "name": "python3"
  },
  "language_info": {
   "codemirror_mode": {
    "name": "ipython",
    "version": 3
   },
   "file_extension": ".py",
   "mimetype": "text/x-python",
   "name": "python",
   "nbconvert_exporter": "python",
   "pygments_lexer": "ipython3",
   "version": "3.10.2"
  },
  "orig_nbformat": 4
 },
 "nbformat": 4,
 "nbformat_minor": 2
}
