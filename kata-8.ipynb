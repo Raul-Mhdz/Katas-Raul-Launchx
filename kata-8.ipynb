{
 "cells": [
  {
   "cell_type": "markdown",
   "metadata": {},
   "source": [
    "#### Ejercicio creacion de diccionarios de python"
   ]
  },
  {
   "cell_type": "code",
   "execution_count": 1,
   "metadata": {},
   "outputs": [
    {
     "name": "stdout",
     "output_type": "stream",
     "text": [
      "El planeta Marte tiene 2 lunas\n",
      "El planeta Marte tiene una circunferencia polar de 6752 KM\n"
     ]
    }
   ],
   "source": [
    "planeta = {\n",
    "    \"nombre\": \"Marte\",\n",
    "    \"lunas\": 2\n",
    "}\n",
    "\n",
    "print(\"El planeta {} tiene {} lunas\".format(planeta[\"nombre\"], planeta[\"lunas\"]))\n",
    "\n",
    "planeta[\"circunferencia\"] = {\n",
    "    \"polar\": 6752,\n",
    "    \"ecuatorial\": 6792\n",
    "}\n",
    "\n",
    "print(\"El planeta {} tiene una circunferencia polar de {} KM\".format(planeta[\"nombre\"], planeta[\"circunferencia\"][\"polar\"]))"
   ]
  },
  {
   "cell_type": "markdown",
   "metadata": {},
   "source": [
    "#### Ejercicio programacion dinamica con diccionarios"
   ]
  },
  {
   "cell_type": "code",
   "execution_count": 2,
   "metadata": {},
   "outputs": [
    {
     "name": "stdout",
     "output_type": "stream",
     "text": [
      "hay un total de 214 lunas en el sistema solar.\n",
      "El promedio de lunas es: 17.833333333333332\n"
     ]
    }
   ],
   "source": [
    "lunas_planetas = {\n",
    "    \"mercurio\": 0,\n",
    "    \"venus\": 0,\n",
    "    \"tierra\": 1,\n",
    "    \"marte\": 2,\n",
    "    \"jupiter\": 79,\n",
    "    \"saturno\": 82,\n",
    "    \"urano\": 27,\n",
    "    \"neptuno\": 14,\n",
    "    \"pluton\": 5,\n",
    "    \"haumea\": 2,\n",
    "    \"makemake\": 1,\n",
    "    \"eris\": 1\n",
    "}\n",
    "\n",
    "lunas = 0\n",
    "\n",
    "for valor in lunas_planetas.values():\n",
    "    lunas = lunas + valor\n",
    "\n",
    "print(\"hay un total de {} lunas en el sistema solar.\".format(lunas))\n",
    "\n",
    "promedio_lunas = 0\n",
    "for valor in lunas_planetas.values():\n",
    "    promedio_lunas = promedio_lunas + valor\n",
    "\n",
    "planetas = len(lunas_planetas.keys())\n",
    "\n",
    "promedio = promedio_lunas / planetas\n",
    "\n",
    "print(\"El promedio de lunas es: {}\".format(promedio))"
   ]
  }
 ],
 "metadata": {
  "interpreter": {
   "hash": "8f4f64d3eab31cf78a6655c451e7d8becf6a3a6c8ef50fccdc4ff5480d609652"
  },
  "kernelspec": {
   "display_name": "Python 3.10.2 64-bit",
   "language": "python",
   "name": "python3"
  },
  "language_info": {
   "codemirror_mode": {
    "name": "ipython",
    "version": 3
   },
   "file_extension": ".py",
   "mimetype": "text/x-python",
   "name": "python",
   "nbconvert_exporter": "python",
   "pygments_lexer": "ipython3",
   "version": "3.10.2"
  },
  "orig_nbformat": 4
 },
 "nbformat": 4,
 "nbformat_minor": 2
}
