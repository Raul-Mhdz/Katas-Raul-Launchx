{
 "cells": [
  {
   "cell_type": "markdown",
   "metadata": {},
   "source": [
    "#### Ejercicio trabajar con argumentos en funciones"
   ]
  },
  {
   "cell_type": "code",
   "execution_count": 1,
   "metadata": {},
   "outputs": [
    {
     "name": "stdout",
     "output_type": "stream",
     "text": [
      "Tanque principal 100%\n",
      "Tanque secundario 80%\n",
      "Tanque de emergencia 44%\n",
      "Promedio del combustible 74.66666666666667%\n",
      "El promedio de los tanques es: 54.666666666666664\n",
      "Tanque principal 89%\n",
      "Tanque secundario 28%\n",
      "Tanque de emergencia 100%\n",
      "Promedio del combustible El promedio de los tanques es: 72.33333333333333%\n"
     ]
    }
   ],
   "source": [
    "def tanques(tanque_uno, tanque_dos, tanque_tres):\n",
    "    total_combustible = tanque_uno + tanque_dos + tanque_tres\n",
    "    promedio = total_combustible / 3\n",
    "    return \"Tanque principal {}%\\nTanque secundario {}%\\nTanque de emergencia {}%\\nPromedio del combustible {}%\".format(tanque_uno, tanque_dos, tanque_tres, promedio)\n",
    "\n",
    "print(tanques(100,80,44))\n",
    "\n",
    "def promedio(valores):\n",
    "    suma = sum(valores)\n",
    "    numero = len(valores)\n",
    "    promedio = suma / numero\n",
    "    return \"El promedio de los tanques es: {}\".format(promedio)\n",
    "\n",
    "print(promedio([20,44,100]))\n",
    "\n",
    "def reporte(tanque_uno, tanque_dos, tanque_tres):\n",
    "    return \"Tanque principal {}%\\nTanque secundario {}%\\nTanque de emergencia {}%\\nPromedio del combustible {}%\".format(tanque_uno, tanque_dos, tanque_tres, promedio([tanque_uno, tanque_dos, tanque_tres]))\n",
    "\n",
    "print(reporte(89,28,100))"
   ]
  },
  {
   "cell_type": "markdown",
   "metadata": {},
   "source": [
    "#### Ejercicio trabajo con argumentos de palabra clave"
   ]
  },
  {
   "cell_type": "code",
   "execution_count": 2,
   "metadata": {},
   "outputs": [
    {
     "name": "stdout",
     "output_type": "stream",
     "text": [
      "Mision a Marte.\n",
      "Tiempo total del viaje: 75 minutos.\n",
      "Combustible: 105000%\n",
      "\n",
      "Mision a: Jupiter.\n",
      "Tiempo total del viaje: 62 minutos.\n",
      "Total de combustible: 150000.\n",
      "\n",
      "Mision a: Luna.\n",
      "Tiempo total: 67 minutos.\n",
      "Conbustible: 150000.\n",
      "\n",
      "tanque principal -> 100000 galones restantes\n",
      "tanque externo -> 50000 galones restantes\n"
     ]
    }
   ],
   "source": [
    "def reporte_mision(pre_despeje_tiempo, tiempo_de_vuelo, destino, tanque_principal, tanque_reserva):\n",
    "    total_combustible = tanque_principal + tanque_reserva\n",
    "    total_viaje = pre_despeje_tiempo + tiempo_de_vuelo\n",
    "    return \"Mision a {}.\\nTiempo total del viaje: {} minutos.\\nCombustible: {}%\\n\".format(destino, total_viaje, total_combustible)\n",
    "\n",
    "print(reporte_mision(20, 55, \"Marte\", 100000, 5000))\n",
    "\n",
    "def reporte_de_mision(destino, *minutos, **tanques):\n",
    "    minu = sum(minutos)\n",
    "    fuel = sum(tanques.values())\n",
    "    return \"Mision a: {}.\\nTiempo total del viaje: {} minutos.\\nTotal de combustible: {}.\\n\".format(destino, minu, fuel)\n",
    "\n",
    "print(reporte_de_mision(\"Jupiter\", 10, 20, 32, principal = 100000, externo = 50000))\n",
    "\n",
    "def mision_de_reporte(destino, *minutos, **reservas_de_conbustible):\n",
    "    tiempo = sum(minutos)\n",
    "    reserva_conbustible = sum(reservas_de_conbustible.values())\n",
    "    reporte_principal = \"Mision a: {}.\\nTiempo total: {} minutos.\\nConbustible: {}.\\n\".format(destino, tiempo, reserva_conbustible)\n",
    "\n",
    "    for tanque, galones in reservas_de_conbustible.items():\n",
    "        reporte_principal += \"\\ntanque {} -> {} galones restantes\".format(tanque, galones)\n",
    "    \n",
    "    return reporte_principal\n",
    "\n",
    "print(mision_de_reporte(\"Luna\", 28, 19, 20, principal = 100000, externo = 50000))\n"
   ]
  }
 ],
 "metadata": {
  "interpreter": {
   "hash": "8f4f64d3eab31cf78a6655c451e7d8becf6a3a6c8ef50fccdc4ff5480d609652"
  },
  "kernelspec": {
   "display_name": "Python 3.10.2 64-bit",
   "language": "python",
   "name": "python3"
  },
  "language_info": {
   "codemirror_mode": {
    "name": "ipython",
    "version": 3
   },
   "file_extension": ".py",
   "mimetype": "text/x-python",
   "name": "python",
   "nbconvert_exporter": "python",
   "pygments_lexer": "ipython3",
   "version": "3.10.2"
  },
  "orig_nbformat": 4
 },
 "nbformat": 4,
 "nbformat_minor": 2
}
