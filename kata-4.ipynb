{
 "cells": [
  {
   "cell_type": "markdown",
   "metadata": {},
   "source": [
    "#### Ejercicio transformar cadenas"
   ]
  },
  {
   "cell_type": "code",
   "execution_count": 1,
   "metadata": {},
   "outputs": [
    {
     "name": "stdout",
     "output_type": "stream",
     "text": [
      " On average, the Moon moves 4cm away from the Earth every year\n",
      " The highest daylight temperature of the Moon is 127 C\n",
      " On average, the Moon moves 4cm away from the Earth every year\n",
      " The highest daylight temperature of the Moon is 127 celcius\n"
     ]
    }
   ],
   "source": [
    "texto = \"\"\"Interesting facts about the Moon. The Moon is Earth's only satellite. There are several interesting facts about the Moon and how it affects life here on Earth. On average, the Moon moves 4cm away from the Earth every year. This yearly drift is not significant enough to cause immediate effects on Earth. The highest daylight temperature of the Moon is 127 C.\"\"\"\n",
    "\n",
    "textoDividido = texto.split(\".\")\n",
    "\n",
    "palabras_clave = [\"average\", \"temperature\", \"distance\"]\n",
    "\n",
    "for oracion in textoDividido:\n",
    "    for palabra_clave in palabras_clave:\n",
    "        if palabra_clave in oracion:\n",
    "            print(oracion)\n",
    "\n",
    "for oracion in textoDividido:\n",
    "    for palabra_clave in palabras_clave:\n",
    "        if palabra_clave in oracion:\n",
    "            print(oracion.replace(' C', ' celcius'))\n",
    "            "
   ]
  },
  {
   "cell_type": "markdown",
   "metadata": {},
   "source": [
    "#### Ejercicio formateando cadenas"
   ]
  },
  {
   "cell_type": "code",
   "execution_count": 2,
   "metadata": {},
   "outputs": [
    {
     "name": "stdout",
     "output_type": "stream",
     "text": [
      "--------------------------------------------------------------------------------\n",
      "Nombre del planeta: Tierra \n",
      "Gravedad en Luna: 1.6199999999999999 m/s2 \n",
      "\n",
      "--------------------------------------------------------------------------------\n",
      "Nombre del planeta: Tierra \n",
      "Gravedad en Luna: 1.6199999999999999 m/s2 \n",
      "\n",
      "\n",
      "Datos de Gravedad sobre: Ganímedes\n",
      "-------------------------------------------------------------------------------\n",
      "Nombre del planeta: Marte\n",
      "Gravedad en Ganímedes: 0.00143 m/s2\n",
      "\n",
      "\n",
      "Datos de Gravedad sobre: Ganímedes\n",
      "-------------------------------------------------------------------------------\n",
      "Nombre del planeta: Marte\n",
      "Gravedad en Ganímedes: 0.00143 m/s2\n",
      "\n"
     ]
    }
   ],
   "source": [
    "nombre = \"Luna\"\n",
    "gravedad = 0.00162\n",
    "planeta = \"Tierra\"\n",
    "\n",
    "titulo = \"Datos de gravedad sobre {}\".format(nombre)\n",
    "\n",
    "plantilla = \"\"\"{}\n",
    "Nombre del planeta: {} \n",
    "Gravedad en {}: {} m/s2 \n",
    "\"\"\".format('-'*80, planeta, nombre, gravedad * 1000)\n",
    "\n",
    "template = \"\"\"{}\n",
    "{} \n",
    "\"\"\".format(titulo.title(), plantilla)\n",
    "\n",
    "print(plantilla)\n",
    "\n",
    "planeta = \"Marte\"\n",
    "gravedad  = 0.00143\n",
    "nombre = \"Ganímedes\"\n",
    "\n",
    "print(plantilla)\n",
    "\n",
    "new_template = \"\"\"\n",
    "Datos de Gravedad sobre: {}\n",
    "-------------------------------------------------------------------------------\n",
    "Nombre del planeta: {}\n",
    "Gravedad en {}: {} m/s2\n",
    "\"\"\".format(nombre, planeta, nombre, gravedad)\n",
    "\n",
    "print(new_template.format(nombre = nombre, planeta = planeta, gravedad = gravedad))\n",
    "\n",
    "print(new_template.format(nombre = nombre, planeta = planeta, gravedad = gravedad * 1000))"
   ]
  }
 ],
 "metadata": {
  "interpreter": {
   "hash": "8f4f64d3eab31cf78a6655c451e7d8becf6a3a6c8ef50fccdc4ff5480d609652"
  },
  "kernelspec": {
   "display_name": "Python 3.10.2 64-bit",
   "language": "python",
   "name": "python3"
  },
  "language_info": {
   "codemirror_mode": {
    "name": "ipython",
    "version": 3
   },
   "file_extension": ".py",
   "mimetype": "text/x-python",
   "name": "python",
   "nbconvert_exporter": "python",
   "pygments_lexer": "ipython3",
   "version": "3.10.2"
  },
  "orig_nbformat": 4
 },
 "nbformat": 4,
 "nbformat_minor": 2
}
